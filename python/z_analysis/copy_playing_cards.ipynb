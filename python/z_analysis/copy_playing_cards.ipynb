{
 "cells": [
  {
   "cell_type": "code",
   "execution_count": 33,
   "metadata": {},
   "outputs": [],
   "source": [
    "from astropy.table import Table\n",
    "\n",
    "import sys\n",
    "sys.path.insert(0, '..')\n",
    "from a_download_decals import download_decals_settings as settings\n",
    "\n",
    "import shutil"
   ]
  },
  {
   "cell_type": "code",
   "execution_count": 6,
   "metadata": {},
   "outputs": [],
   "source": [
    "joint_catalog = Table.read(settings.upload_catalog_loc)"
   ]
  },
  {
   "cell_type": "code",
   "execution_count": 10,
   "metadata": {},
   "outputs": [
    {
     "name": "stdout",
     "output_type": "stream",
     "text": [
      "343128\n"
     ]
    }
   ],
   "source": [
    "print(len(joint_catalog))"
   ]
  },
  {
   "cell_type": "code",
   "execution_count": 8,
   "metadata": {},
   "outputs": [
    {
     "name": "stdout",
     "output_type": "stream",
     "text": [
      "['iauname', 'nsa_id', 'ra', 'dec', 'petrotheta', 'petroth50', 'petroth90', 'z', 'nsa_version', 'fits_loc', 'png_loc', 'fits_ready', 'fits_filled', 'png_ready']\n"
     ]
    }
   ],
   "source": [
    "print(joint_catalog.colnames)"
   ]
  },
  {
   "cell_type": "code",
   "execution_count": 30,
   "metadata": {
    "collapsed": true
   },
   "outputs": [],
   "source": [
    "large = joint_catalog['petrotheta'] > 30.\n",
    "close = joint_catalog['z'] < 0.01\n",
    "ready = joint_catalog['fits_ready'] & joint_catalog['fits_filled'] & joint_catalog['png_ready']"
   ]
  },
  {
   "cell_type": "code",
   "execution_count": 31,
   "metadata": {},
   "outputs": [
    {
     "name": "stdout",
     "output_type": "stream",
     "text": [
      "1281\n"
     ]
    }
   ],
   "source": [
    "pretty = joint_catalog[large & close & ready]\n",
    "print(len(pretty))"
   ]
  },
  {
   "cell_type": "code",
   "execution_count": 35,
   "metadata": {},
   "outputs": [
    {
     "name": "stdout",
     "output_type": "stream",
     "text": [
      "      iauname      \n",
      "-------------------\n",
      "J094203.29+002011.1\n",
      "J094653.63+003026.5\n",
      "J095031.30+002426.9\n",
      "J112712.26-005940.7\n",
      "J114320.71+001320.0\n",
      "J115536.94+011413.8\n",
      "J123227.94+002326.2\n",
      "J124350.90-003340.4\n",
      "J124129.17-004311.3\n",
      "J124428.77+002804.9\n",
      "                ...\n",
      "J020055.13-085033.4\n",
      "J024102.65-065606.5\n",
      "J120111.00-011746.6\n",
      "J010159.01-062306.7\n",
      "J094407.42-003935.2\n",
      "J100644.19-004540.6\n",
      "J114136.19+013958.6\n",
      "J122542.11+020924.7\n",
      "J122027.96+012804.2\n",
      "J124319.56+015855.0\n",
      "J134907.71-015657.1\n",
      "Length = 1281 rows\n"
     ]
    }
   ],
   "source": [
    "print(pretty['iauname'])"
   ]
  },
  {
   "cell_type": "code",
   "execution_count": 36,
   "metadata": {},
   "outputs": [
    {
     "name": "stdout",
     "output_type": "stream",
     "text": [
      "                             png_loc                             \n",
      "-----------------------------------------------------------------\n",
      "/Volumes/alpha/decals/png_native/dr5/J094/J094203.29+002011.1.png\n",
      "/Volumes/alpha/decals/png_native/dr5/J094/J094653.63+003026.5.png\n",
      "/Volumes/alpha/decals/png_native/dr5/J095/J095031.30+002426.9.png\n",
      "/Volumes/alpha/decals/png_native/dr5/J112/J112712.26-005940.7.png\n",
      "/Volumes/alpha/decals/png_native/dr5/J114/J114320.71+001320.0.png\n",
      "/Volumes/alpha/decals/png_native/dr5/J115/J115536.94+011413.8.png\n",
      "/Volumes/alpha/decals/png_native/dr5/J123/J123227.94+002326.2.png\n",
      "/Volumes/alpha/decals/png_native/dr5/J124/J124350.90-003340.4.png\n",
      "/Volumes/alpha/decals/png_native/dr5/J124/J124129.17-004311.3.png\n",
      "/Volumes/alpha/decals/png_native/dr5/J124/J124428.77+002804.9.png\n",
      "                                                              ...\n",
      "/Volumes/alpha/decals/png_native/dr5/J020/J020055.13-085033.4.png\n",
      "/Volumes/alpha/decals/png_native/dr5/J024/J024102.65-065606.5.png\n",
      "/Volumes/alpha/decals/png_native/dr5/J120/J120111.00-011746.6.png\n",
      "/Volumes/alpha/decals/png_native/dr5/J010/J010159.01-062306.7.png\n",
      "/Volumes/alpha/decals/png_native/dr5/J094/J094407.42-003935.2.png\n",
      "/Volumes/alpha/decals/png_native/dr5/J100/J100644.19-004540.6.png\n",
      "/Volumes/alpha/decals/png_native/dr5/J114/J114136.19+013958.6.png\n",
      "/Volumes/alpha/decals/png_native/dr5/J122/J122542.11+020924.7.png\n",
      "/Volumes/alpha/decals/png_native/dr5/J122/J122027.96+012804.2.png\n",
      "/Volumes/alpha/decals/png_native/dr5/J124/J124319.56+015855.0.png\n",
      "/Volumes/alpha/decals/png_native/dr5/J134/J134907.71-015657.1.png\n",
      "Length = 1281 rows\n"
     ]
    }
   ],
   "source": [
    "print(pretty['png_loc'])"
   ]
  },
  {
   "cell_type": "code",
   "execution_count": 38,
   "metadata": {},
   "outputs": [],
   "source": [
    "target_dir = '/data/temp/outreach/pretty_galaxies'\n",
    "for galaxy in pretty:\n",
    "    shutil.copy(galaxy['png_loc'], target_dir + '/' + galaxy['iauname'] + '.png')\n",
    "\n"
   ]
  },
  {
   "cell_type": "code",
   "execution_count": null,
   "metadata": {
    "collapsed": true
   },
   "outputs": [],
   "source": []
  }
 ],
 "metadata": {
  "kernelspec": {
   "display_name": "Python 3",
   "language": "python",
   "name": "python3"
  },
  "language_info": {
   "codemirror_mode": {
    "name": "ipython",
    "version": 3
   },
   "file_extension": ".py",
   "mimetype": "text/x-python",
   "name": "python",
   "nbconvert_exporter": "python",
   "pygments_lexer": "ipython3",
   "version": "3.6.2"
  }
 },
 "nbformat": 4,
 "nbformat_minor": 2
}
